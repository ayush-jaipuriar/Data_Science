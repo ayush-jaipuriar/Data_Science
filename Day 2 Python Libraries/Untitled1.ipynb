{
 "cells": [
  {
   "cell_type": "code",
   "execution_count": 3,
   "metadata": {},
   "outputs": [],
   "source": [
    "import pandas as pd\n",
    "\n",
    "pd.read_csv(r'/home/ayush/Documents/Python/Day 2 Python Libraries/Sacramentorealestatetransactions.csv')\n",
    "\n",
    "name = [\"Mo\",\"Firmino\", \"Mane\"]\n",
    "id = [1,2,3]\n",
    "\n",
    "dic = {'name': name, 'id': id}\n",
    "\n",
    "df = pd.DataFrame(dic)\n",
    "df.to_csv('file1.csv')\n"
   ]
  },
  {
   "cell_type": "code",
   "execution_count": 13,
   "metadata": {},
   "outputs": [
    {
     "name": "stdout",
     "output_type": "stream",
     "text": [
      "0    a\n",
      "1    b\n",
      "2    c\n",
      "dtype: object\n"
     ]
    }
   ],
   "source": [
    "x = pd.Series(['a','b','c'])\n",
    "print(x)"
   ]
  },
  {
   "cell_type": "code",
   "execution_count": 12,
   "metadata": {},
   "outputs": [
    {
     "name": "stdout",
     "output_type": "stream",
     "text": [
      "a    1\n",
      "b    2\n",
      "c    3\n",
      "dtype: object\n"
     ]
    }
   ],
   "source": [
    "x = pd.Series(['1','2','3'], index =['a','b','c'])\n",
    "print(x)"
   ]
  },
  {
   "cell_type": "code",
   "execution_count": 14,
   "metadata": {},
   "outputs": [
    {
     "name": "stdout",
     "output_type": "stream",
     "text": [
      "10     Geeks\n",
      "20       for\n",
      "30     Geeks\n",
      "40        is\n",
      "50    portal\n",
      "60       for\n",
      "70     geeks\n",
      "dtype: object\n"
     ]
    }
   ],
   "source": [
    "\n",
    "  \n",
    "ind = [10, 20, 30, 40, 50, 60, 70] \n",
    "  \n",
    "lst = ['Geeks', 'for', 'Geeks', 'is', \n",
    "            'portal', 'for', 'geeks'] \n",
    "              \n",
    "# create Pandas Series with define indexes \n",
    "x = pd.Series(lst, index = ind) \n",
    "  \n",
    "# print the Series \n",
    "print(x) "
   ]
  },
  {
   "cell_type": "code",
   "execution_count": 15,
   "metadata": {},
   "outputs": [
    {
     "name": "stdout",
     "output_type": "stream",
     "text": [
      "0      Salah\n",
      "1       Mane\n",
      "2    Firmino\n",
      "dtype: object\n"
     ]
    }
   ],
   "source": [
    "list = [['Salah'],['Mane'],['Firmino']]\n",
    "ser = pd.Series(i[0] for i in list)\n",
    "print(ser)"
   ]
  },
  {
   "cell_type": "code",
   "execution_count": null,
   "metadata": {},
   "outputs": [],
   "source": []
  }
 ],
 "metadata": {
  "kernelspec": {
   "display_name": "Python 3",
   "language": "python",
   "name": "python3"
  },
  "language_info": {
   "codemirror_mode": {
    "name": "ipython",
    "version": 3
   },
   "file_extension": ".py",
   "mimetype": "text/x-python",
   "name": "python",
   "nbconvert_exporter": "python",
   "pygments_lexer": "ipython3",
   "version": "3.7.6"
  }
 },
 "nbformat": 4,
 "nbformat_minor": 4
}
